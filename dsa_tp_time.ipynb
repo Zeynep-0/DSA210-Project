

def extract_json_metadata(image_filename, json_folder):
    """
    Extract metadata from a JSON file in a separate folder, using the same base name as the image.
    """
    json_path = os.path.join(json_folder, f"{os.path.splitext(image_filename)[0]}.json")  # Find corresponding JSON
    if os.path.exists(json_path):
        try:
            with open(json_path, 'r') as f:
                return json.load(f)
        except Exception as e:
            print(f"Error reading JSON file {json_path}: {e}")
    return {}

def process_images_in_folder(image_folder, json_folder):
    """
    Process all images in a folder to extract their metadata from a separate JSON folder.
    """
    results = []
    for file_name in os.listdir(image_folder):
        if file_name.lower().endswith(('.png', '.jpg', '.jpeg', '.bmp')):  # Check for image files
            image_path = os.path.join(image_folder, file_name)
            metadata = extract_json_metadata(file_name, json_folder)  # Extract metadata from corresponding JSON
            results.append({"image_path": image_path, "metadata": metadata})
    return results

def process_photos_in_year_folder(base_folder, json_folder):
    """
    Process folders for each year (starting with Photos_20) to extract metadata from images using JSON from a separate folder.
    """
    year_data = {}
    for year_folder in os.listdir(base_folder):
        year_path = os.path.join(base_folder, year_folder)
        if os.path.isdir(year_path) and year_folder.startswith("Photos_20"):  # Look for Photos_20** folders
            year_data[year_folder] = {}
            for month_folder in os.listdir(year_path):
                month_path = os.path.join(year_path, month_folder)
                if os.path.isdir(month_path):  # Process each month folder
                    print(f"Processing Year: {year_folder}, Month: {month_folder}")
                    month_data = process_images_in_folder(month_path, json_folder)  # Extract metadata from each image
                    year_data[year_folder][month_folder] = month_data
    return year_data

# Base folder containing year/month photo folders
base_folder = r"C:\Users\Lenovo\Desktop"  # Adjust path to your actual base folder

# Separate folder where JSON files are stored
json_folder = r"C:\Users\Lenovo\Desktop\Json_Folder"  # Adjust path to your actual JSON folder

# Process and store results
photo_data = process_photos_in_year_folder(base_folder, json_folder)

# Save the results to a JSON file
output_file = "photo_metadata.json"
with open(output_file, "w") as f:
    json.dump(photo_data, f, indent=4)

print(f"Photo metadata saved to {output_file}.")
